{
    "cells": [
        {
            "cell_type": "markdown",
            "metadata": {},
            "source": [
                "![QuantConnect Logo](https://cdn.quantconnect.com/web/i/icon.png)\n",
                "<hr>"
            ]
        },
        {
            "cell_type": "markdown",
            "metadata": {},
            "source": [
                "# Strategy 1: Buy and hold\n",
                "\n",
                "Buy and hold generates profit from the risk premia of market risk exposition.\n",
                "\n",
                "A buy and hold strategy of 1 instrument is the most simple strategy. It requires several considerations that will be touched on in this notebook"
            ]
        },
        {
            "cell_type": "markdown",
            "metadata": {},
            "source": [
                "## Data aquisition"
            ]
        },
        {
            "cell_type": "code",
            "execution_count": null,
            "metadata": {},
            "outputs": [
                {
                    "name": "stdout",
                    "output_type": "stream",
                    "text": [
                        "ES Future Data:\n",
                        "                               askclose      askhigh       asklow  \\\n",
                        "symbol time                                                         \n",
                        "ES 1S1 2007-01-03 19:00:00  1380.443221  1394.484909  1371.969788   \n",
                        "       2007-01-04 19:00:00  1383.348398  1386.253575  1372.211887   \n",
                        "       2007-01-05 19:00:00  1371.727690  1383.348398  1369.790906   \n",
                        "       2007-01-08 19:00:00  1378.022240  1379.474829  1368.580415   \n",
                        "       2007-01-09 19:00:00  1376.327554  1379.959025  1369.548808   \n",
                        "\n",
                        "                                askopen  asksize     bidclose      bidhigh  \\\n",
                        "symbol time                                                                  \n",
                        "ES 1S1 2007-01-03 19:00:00  1388.674556    173.0  1380.201123  1394.242811   \n",
                        "       2007-01-04 19:00:00  1380.443221    510.0  1383.106300  1386.011477   \n",
                        "       2007-01-05 19:00:00  1383.348398     30.0  1371.243494  1383.106300   \n",
                        "       2007-01-08 19:00:00  1371.727690    103.0  1377.780142  1379.232731   \n",
                        "       2007-01-09 19:00:00  1378.022240    125.0  1376.085456  1379.716927   \n",
                        "\n",
                        "                                 bidlow      bidopen  bidsize        close  \\\n",
                        "symbol time                                                                  \n",
                        "ES 1S1 2007-01-03 19:00:00  1371.727690  1388.432458    193.0  1380.201123   \n",
                        "       2007-01-04 19:00:00  1371.969788  1380.201123     30.0  1383.106300   \n",
                        "       2007-01-05 19:00:00  1369.548808  1383.106300     21.0  1371.727690   \n",
                        "       2007-01-08 19:00:00  1368.338317  1371.243494    252.0  1378.022240   \n",
                        "       2007-01-09 19:00:00  1369.306710  1377.780142    458.0  1376.327554   \n",
                        "\n",
                        "                                   high          low         open     volume  \n",
                        "symbol time                                                                   \n",
                        "ES 1S1 2007-01-03 19:00:00  1394.484909  1371.727690  1388.432458  1154852.0  \n",
                        "       2007-01-04 19:00:00  1386.253575  1371.969788  1378.022240   959451.0  \n",
                        "       2007-01-05 19:00:00  1379.232731  1369.548808  1378.990633   934572.0  \n",
                        "       2007-01-08 19:00:00  1379.474829  1368.338317  1373.906573   992919.0  \n",
                        "       2007-01-09 19:00:00  1379.959025  1369.306710  1378.022240  1207211.0  \n",
                        "\n",
                        "MES Future Data:\n",
                        "                                askclose      askhigh       asklow  \\\n",
                        "symbol  time                                                         \n",
                        "MES 1S1 2019-05-06 20:00:00  3044.303427  3073.593177  3027.566427   \n",
                        "        2019-05-07 20:00:00  3024.166723  3047.180099  2994.615458   \n",
                        "        2019-05-08 20:00:00  3017.628833  3032.273708  3005.599114   \n",
                        "        2019-05-09 20:00:00  3004.814567  3017.628833  2967.156317   \n",
                        "        2019-05-10 20:00:00  3020.243989  3026.258849  2956.434176   \n",
                        "\n",
                        "                                 askopen  asksize     bidclose      bidhigh  \\\n",
                        "symbol  time                                                                  \n",
                        "MES 1S1 2019-05-06 20:00:00  3031.227645     30.0  3042.995849  3073.331662   \n",
                        "        2019-05-07 20:00:00  3044.303427     35.0  3023.382177  3046.918583   \n",
                        "        2019-05-08 20:00:00  3024.166723      2.0  3017.105802  3032.012192   \n",
                        "        2019-05-09 20:00:00  3017.628833      1.0  3004.291536  3017.105802   \n",
                        "        2019-05-10 20:00:00  3004.814567      1.0  3019.982473  3025.997333   \n",
                        "\n",
                        "                                  bidlow      bidopen  bidsize        close  \\\n",
                        "symbol  time                                                                  \n",
                        "MES 1S1 2019-05-06 20:00:00  3027.304911  3030.966130     30.0  3044.041911   \n",
                        "        2019-05-07 20:00:00  2994.092426  3042.995849     33.0  3024.166723   \n",
                        "        2019-05-08 20:00:00  3005.076083  3023.382177     31.0  3017.367317   \n",
                        "        2019-05-09 20:00:00  2966.894801  3017.105802     29.0  3004.291536   \n",
                        "        2019-05-10 20:00:00  2956.172660  3004.291536      6.0  3020.243989   \n",
                        "\n",
                        "                                    high          low         open    volume  \n",
                        "symbol  time                                                                  \n",
                        "MES 1S1 2019-05-06 20:00:00  3073.331662  3027.304911  3031.489161  131344.0  \n",
                        "        2019-05-07 20:00:00  3046.918583  2994.353942  3039.596146  205636.0  \n",
                        "        2019-05-08 20:00:00  3032.012192  3005.076083  3012.660036  178024.0  \n",
                        "        2019-05-09 20:00:00  3009.260333  2966.894801  2987.816051  270465.0  \n",
                        "        2019-05-10 20:00:00  3026.258849  2956.172660  2992.000301  296553.0  \n"
                    ]
                }
            ],
            "source": [
                "from datetime import datetime, timedelta\n",
                "from QuantConnect import Resolution\n",
                "from QuantConnect.Securities import Futures\n",
                "\n",
                "# Initialize QuantBook\n",
                "qb = QuantBook()\n",
                "\n",
                "# Add Future Subscriptions for ES and MES with Daily resolution\n",
                "es_future = qb.AddFuture(Futures.Indices.SP500EMini, Resolution.Daily)\n",
                "mes_future = qb.AddFuture(Futures.Indices.MicroSP500EMini, Resolution.Daily)\n",
                "\n",
                "# Set Historical Data Range\n",
                "start_date = datetime(2007, 1, 1)\n",
                "end_date = datetime.now()\n",
                "\n",
                "# Request Historical Data for ES and MES futures\n",
                "es_history = qb.History([es_future.Symbol], start_date, end_date, Resolution.Daily)\n",
                "mes_history = qb.History([mes_future.Symbol], start_date, end_date, Resolution.Daily)\n",
                "\n",
                "\n",
                "# Save data to Object Store (optional)\n",
                "#qb.ObjectStore.Save(\"ES_Future_Data\", es_df.to_csv(index=False))\n",
                "#qb.ObjectStore.Save(\"MES_Future_Data\", mes_df.to_csv(index=False))\n",
                "\n",
                "es_history.reset_index(level = 0, drop = True, inplace=True)\n",
                "mes_history.reset_index(level = 0, drop = True, inplace=True)\n",
                "# Display the first few rows of the historical data\n",
                "print(\"ES Future Data:\")\n",
                "print(es_history.head())\n",
                "\n",
                "print(\"\\nMES Future Data:\")\n",
                "print(mes_history.head())\n",
                "\n"
            ]
        },
        {
            "cell_type": "markdown",
            "metadata": {},
            "source": [
                "## Multipliers and tick size\n",
                "\n",
                "Each contract may have different multipliers. That means, that a 1$ move is equal to a 50$ change in returns for each contract one is exposed to. We will create a dictionary with the relevant information to calculate the returns down the road."
            ]
        },
        {
            "cell_type": "markdown",
            "metadata": {},
            "source": [
                "### Compute Functions"
            ]
        },
        {
            "cell_type": "code",
            "execution_count": null,
            "metadata": {},
            "outputs": [
                {
                    "ename": "",
                    "evalue": "",
                    "output_type": "error",
                    "traceback": [
                        "\u001b[1;31mnotebook controller is DISPOSED. \n",
                        "\u001b[1;31mView Jupyter <a href='command:jupyter.viewOutput'>log</a> for further details."
                    ]
                }
            ],
            "source": [
                "def calcular_retorno(simbolo, precio_anterior, precio_actual):\n",
                "    \"\"\"Compute returns. takes symbol, beginning price, end price. Returns float\"\"\"\n",
                "    params = instrumentos[simbolo]\n",
                "    delta_precio = precio_actual - precio_anterior\n",
                "    retorno = delta_precio * params['multiplicador']\n",
                "    return retorno"
            ]
        },
        {
            "cell_type": "code",
            "execution_count": null,
            "metadata": {},
            "outputs": [
                {
                    "ename": "",
                    "evalue": "",
                    "output_type": "error",
                    "traceback": [
                        "\u001b[1;31mnotebook controller is DISPOSED. \n",
                        "\u001b[1;31mView Jupyter <a href='command:jupyter.viewOutput'>log</a> for further details."
                    ]
                }
            ],
            "source": [
                "\n",
                "# Simulate buy and hold from the beginning of the data\n",
                "def simular_buy_and_hold(history_df, simbolo):\n",
                "    precio_inicial = history_df['close'].iloc[0]\n",
                "    precio_final = history_df['close'].iloc[-1]\n",
                "    retorno_total = calcular_retorno(simbolo, precio_inicial, precio_final)\n",
                "    return retorno_total"
            ]
        },
        {
            "cell_type": "code",
            "execution_count": 21,
            "metadata": {},
            "outputs": [
                {
                    "name": "stdout",
                    "output_type": "stream",
                    "text": [
                        "{'ES': [datetime.datetime(2007, 3, 16, 0, 0), datetime.datetime(2007, 6, 15, 0, 0), datetime.datetime(2007, 9, 21, 0, 0), datetime.datetime(2007, 12, 21, 0, 0), datetime.datetime(2008, 3, 21, 0, 0), datetime.datetime(2008, 6, 20, 0, 0), datetime.datetime(2008, 9, 19, 0, 0), datetime.datetime(2008, 12, 19, 0, 0), datetime.datetime(2009, 3, 20, 0, 0), datetime.datetime(2009, 6, 19, 0, 0), datetime.datetime(2009, 9, 18, 0, 0), datetime.datetime(2009, 12, 18, 0, 0), datetime.datetime(2010, 3, 19, 0, 0), datetime.datetime(2010, 6, 18, 0, 0), datetime.datetime(2010, 9, 17, 0, 0), datetime.datetime(2010, 12, 17, 0, 0), datetime.datetime(2011, 3, 18, 0, 0), datetime.datetime(2011, 6, 17, 0, 0), datetime.datetime(2011, 9, 16, 0, 0), datetime.datetime(2011, 12, 16, 0, 0), datetime.datetime(2012, 3, 16, 0, 0), datetime.datetime(2012, 6, 15, 0, 0), datetime.datetime(2012, 9, 21, 0, 0), datetime.datetime(2012, 12, 21, 0, 0), datetime.datetime(2013, 3, 15, 0, 0), datetime.datetime(2013, 6, 21, 0, 0), datetime.datetime(2013, 9, 20, 0, 0), datetime.datetime(2013, 12, 20, 0, 0), datetime.datetime(2014, 3, 21, 0, 0), datetime.datetime(2014, 6, 20, 0, 0), datetime.datetime(2014, 9, 19, 0, 0), datetime.datetime(2014, 12, 19, 0, 0), datetime.datetime(2015, 3, 20, 0, 0), datetime.datetime(2015, 6, 19, 0, 0), datetime.datetime(2015, 9, 18, 0, 0), datetime.datetime(2015, 12, 18, 0, 0), datetime.datetime(2016, 3, 18, 0, 0), datetime.datetime(2016, 6, 17, 0, 0), datetime.datetime(2016, 9, 16, 0, 0), datetime.datetime(2016, 12, 16, 0, 0), datetime.datetime(2017, 3, 17, 0, 0), datetime.datetime(2017, 6, 16, 0, 0), datetime.datetime(2017, 9, 15, 0, 0), datetime.datetime(2017, 12, 15, 0, 0), datetime.datetime(2018, 3, 16, 0, 0), datetime.datetime(2018, 6, 15, 0, 0), datetime.datetime(2018, 9, 21, 0, 0), datetime.datetime(2018, 12, 21, 0, 0), datetime.datetime(2019, 3, 15, 0, 0), datetime.datetime(2019, 6, 21, 0, 0), datetime.datetime(2019, 9, 20, 0, 0), datetime.datetime(2019, 12, 20, 0, 0), datetime.datetime(2020, 3, 20, 0, 0), datetime.datetime(2020, 6, 19, 0, 0), datetime.datetime(2020, 9, 18, 0, 0), datetime.datetime(2020, 12, 18, 0, 0), datetime.datetime(2021, 3, 19, 0, 0), datetime.datetime(2021, 6, 18, 0, 0), datetime.datetime(2021, 9, 17, 0, 0), datetime.datetime(2021, 12, 17, 0, 0), datetime.datetime(2022, 3, 18, 0, 0), datetime.datetime(2022, 6, 17, 0, 0), datetime.datetime(2022, 9, 16, 0, 0), datetime.datetime(2022, 12, 16, 0, 0), datetime.datetime(2023, 3, 17, 0, 0), datetime.datetime(2023, 6, 16, 0, 0), datetime.datetime(2023, 9, 15, 0, 0), datetime.datetime(2023, 12, 15, 0, 0)], 'MES': [datetime.datetime(2019, 3, 15, 0, 0), datetime.datetime(2019, 6, 21, 0, 0), datetime.datetime(2019, 9, 20, 0, 0), datetime.datetime(2019, 12, 20, 0, 0), datetime.datetime(2020, 3, 20, 0, 0), datetime.datetime(2020, 6, 19, 0, 0), datetime.datetime(2020, 9, 18, 0, 0), datetime.datetime(2020, 12, 18, 0, 0), datetime.datetime(2021, 3, 19, 0, 0), datetime.datetime(2021, 6, 18, 0, 0), datetime.datetime(2021, 9, 17, 0, 0), datetime.datetime(2021, 12, 17, 0, 0), datetime.datetime(2022, 3, 18, 0, 0), datetime.datetime(2022, 6, 17, 0, 0), datetime.datetime(2022, 9, 16, 0, 0), datetime.datetime(2022, 12, 16, 0, 0), datetime.datetime(2023, 3, 17, 0, 0), datetime.datetime(2023, 6, 16, 0, 0), datetime.datetime(2023, 9, 15, 0, 0), datetime.datetime(2023, 12, 15, 0, 0)]}\n"
                    ]
                }
            ],
            "source": [
                "# Definir la función para calcular la fecha de expiración\n",
                "def calcular_fecha_expiracion(anio, mes):\n",
                "    primer_dia_mes = datetime(anio, mes, 1)\n",
                "    primer_viernes = primer_dia_mes + timedelta(days=(4 - primer_dia_mes.weekday() + 7) % 7)\n",
                "    tercer_viernes = primer_viernes + timedelta(weeks=2)\n",
                "    return tercer_viernes\n",
                "\n",
                "# Crear un diccionario con las fechas de expiración para ES y MES\n",
                "fechas_expiracion = {\n",
                "    'ES': [calcular_fecha_expiracion(anio, mes) for anio in range(2007, 2024) for mes in [3, 6, 9, 12]],\n",
                "    'MES': [calcular_fecha_expiracion(anio, mes) for anio in range(2019, 2024) for mes in [3, 6, 9, 12]]\n",
                "}\n",
                "\n",
                "# Verificar el contenido del diccionario de fechas de expiración\n",
                "print(fechas_expiracion)\n",
                "\n"
            ]
        },
        {
            "cell_type": "code",
            "execution_count": 13,
            "metadata": {},
            "outputs": [],
            "source": [
                "instrumentos = {\n",
                "    'ES': {\n",
                "        'multiplicador': 50,\n",
                "        'valor_tick': 0.25,\n",
                "        'fluctuacion_minima': 12.50\n",
                "    },\n",
                "    'MES': {\n",
                "        'multiplicador': 5,\n",
                "        'valor_tick': 0.25,\n",
                "        'fluctuacion_minima': 1.25\n",
                "    }\n",
                "}\n"
            ]
        },
        {
            "cell_type": "code",
            "execution_count": 11,
            "metadata": {},
            "outputs": [
                {
                    "name": "stdout",
                    "output_type": "stream",
                    "text": [
                        "Retorno total ES: 197502.44385132618\n",
                        "Retorno total MES: 11431.04044389167\n"
                    ]
                }
            ],
            "source": [
                "retorno_es = simular_buy_and_hold(es_history, 'ES')\n",
                "retorno_mes = simular_buy_and_hold(mes_history, 'MES')\n",
                "\n",
                "print(f\"Retorno total ES: {retorno_es}\")\n",
                "print(f\"Retorno total MES: {retorno_mes}\")\n"
            ]
        },
        {
            "cell_type": "code",
            "execution_count": null,
            "metadata": {},
            "outputs": [],
            "source": []
        }
    ],
    "metadata": {
        "kernelspec": {
            "display_name": "Foundation-Py-Default",
            "language": "python",
            "name": "python3"
        }
    },
    "nbformat": 4,
    "nbformat_minor": 2
}
